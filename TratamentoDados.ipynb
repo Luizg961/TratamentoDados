{
 "cells": [
  {
   "cell_type": "code",
   "execution_count": 230,
   "id": "b54df82d-c184-4d0c-97c3-684f63942ae8",
   "metadata": {},
   "outputs": [],
   "source": [
    "import seaborn as srn\n",
    "import pandas as pd\n",
    "import statistics as sts\n"
   ]
  },
  {
   "attachments": {},
   "cell_type": "markdown",
   "id": "12404e74-af89-4bae-9e86-3214ad22383b",
   "metadata": {},
   "source": [
    "EXPLORANDO OS DADOS"
   ]
  },
  {
   "cell_type": "code",
   "execution_count": 233,
   "id": "861c44d5-cf44-435e-9ed8-9af06f001b0e",
   "metadata": {},
   "outputs": [
    {
     "data": {
      "text/html": [
       "<div>\n",
       "<style scoped>\n",
       "    .dataframe tbody tr th:only-of-type {\n",
       "        vertical-align: middle;\n",
       "    }\n",
       "\n",
       "    .dataframe tbody tr th {\n",
       "        vertical-align: top;\n",
       "    }\n",
       "\n",
       "    .dataframe thead th {\n",
       "        text-align: right;\n",
       "    }\n",
       "</style>\n",
       "<table border=\"1\" class=\"dataframe\">\n",
       "  <thead>\n",
       "    <tr style=\"text-align: right;\">\n",
       "      <th></th>\n",
       "      <th>X0</th>\n",
       "      <th>X1</th>\n",
       "      <th>X2</th>\n",
       "      <th>X3</th>\n",
       "      <th>X4</th>\n",
       "      <th>X4.1</th>\n",
       "      <th>X6</th>\n",
       "      <th>X7</th>\n",
       "      <th>X8</th>\n",
       "      <th>X9</th>\n",
       "      <th>X10</th>\n",
       "      <th>X11</th>\n",
       "    </tr>\n",
       "  </thead>\n",
       "  <tbody>\n",
       "    <tr>\n",
       "      <th>0</th>\n",
       "      <td>1</td>\n",
       "      <td>619</td>\n",
       "      <td>RS</td>\n",
       "      <td>Feminino</td>\n",
       "      <td>42</td>\n",
       "      <td>2</td>\n",
       "      <td>0</td>\n",
       "      <td>1</td>\n",
       "      <td>1</td>\n",
       "      <td>1</td>\n",
       "      <td>10134888.0</td>\n",
       "      <td>1</td>\n",
       "    </tr>\n",
       "    <tr>\n",
       "      <th>1</th>\n",
       "      <td>2</td>\n",
       "      <td>608</td>\n",
       "      <td>SC</td>\n",
       "      <td>Feminino</td>\n",
       "      <td>41</td>\n",
       "      <td>1</td>\n",
       "      <td>8380786</td>\n",
       "      <td>1</td>\n",
       "      <td>0</td>\n",
       "      <td>1</td>\n",
       "      <td>11254258.0</td>\n",
       "      <td>0</td>\n",
       "    </tr>\n",
       "    <tr>\n",
       "      <th>2</th>\n",
       "      <td>3</td>\n",
       "      <td>502</td>\n",
       "      <td>RS</td>\n",
       "      <td>Feminino</td>\n",
       "      <td>42</td>\n",
       "      <td>8</td>\n",
       "      <td>1596608</td>\n",
       "      <td>3</td>\n",
       "      <td>1</td>\n",
       "      <td>0</td>\n",
       "      <td>11393157.0</td>\n",
       "      <td>1</td>\n",
       "    </tr>\n",
       "    <tr>\n",
       "      <th>3</th>\n",
       "      <td>4</td>\n",
       "      <td>699</td>\n",
       "      <td>RS</td>\n",
       "      <td>Feminino</td>\n",
       "      <td>39</td>\n",
       "      <td>1</td>\n",
       "      <td>0</td>\n",
       "      <td>2</td>\n",
       "      <td>0</td>\n",
       "      <td>0</td>\n",
       "      <td>9382663.0</td>\n",
       "      <td>0</td>\n",
       "    </tr>\n",
       "    <tr>\n",
       "      <th>4</th>\n",
       "      <td>5</td>\n",
       "      <td>850</td>\n",
       "      <td>SC</td>\n",
       "      <td>Feminino</td>\n",
       "      <td>43</td>\n",
       "      <td>2</td>\n",
       "      <td>12551082</td>\n",
       "      <td>1</td>\n",
       "      <td>1</td>\n",
       "      <td>1</td>\n",
       "      <td>790841.0</td>\n",
       "      <td>0</td>\n",
       "    </tr>\n",
       "    <tr>\n",
       "      <th>...</th>\n",
       "      <td>...</td>\n",
       "      <td>...</td>\n",
       "      <td>...</td>\n",
       "      <td>...</td>\n",
       "      <td>...</td>\n",
       "      <td>...</td>\n",
       "      <td>...</td>\n",
       "      <td>...</td>\n",
       "      <td>...</td>\n",
       "      <td>...</td>\n",
       "      <td>...</td>\n",
       "      <td>...</td>\n",
       "    </tr>\n",
       "    <tr>\n",
       "      <th>994</th>\n",
       "      <td>996</td>\n",
       "      <td>838</td>\n",
       "      <td>SC</td>\n",
       "      <td>Masculino</td>\n",
       "      <td>43</td>\n",
       "      <td>9</td>\n",
       "      <td>12310588</td>\n",
       "      <td>2</td>\n",
       "      <td>1</td>\n",
       "      <td>0</td>\n",
       "      <td>14576583.0</td>\n",
       "      <td>0</td>\n",
       "    </tr>\n",
       "    <tr>\n",
       "      <th>995</th>\n",
       "      <td>997</td>\n",
       "      <td>610</td>\n",
       "      <td>SC</td>\n",
       "      <td>Masculino</td>\n",
       "      <td>29</td>\n",
       "      <td>9</td>\n",
       "      <td>0</td>\n",
       "      <td>3</td>\n",
       "      <td>0</td>\n",
       "      <td>1</td>\n",
       "      <td>8391224.0</td>\n",
       "      <td>0</td>\n",
       "    </tr>\n",
       "    <tr>\n",
       "      <th>996</th>\n",
       "      <td>998</td>\n",
       "      <td>811</td>\n",
       "      <td>SC</td>\n",
       "      <td>Masculino</td>\n",
       "      <td>44</td>\n",
       "      <td>3</td>\n",
       "      <td>0</td>\n",
       "      <td>2</td>\n",
       "      <td>0</td>\n",
       "      <td>1</td>\n",
       "      <td>7843973.0</td>\n",
       "      <td>0</td>\n",
       "    </tr>\n",
       "    <tr>\n",
       "      <th>997</th>\n",
       "      <td>999</td>\n",
       "      <td>587</td>\n",
       "      <td>SC</td>\n",
       "      <td>Masculino</td>\n",
       "      <td>62</td>\n",
       "      <td>7</td>\n",
       "      <td>12128627</td>\n",
       "      <td>1</td>\n",
       "      <td>0</td>\n",
       "      <td>1</td>\n",
       "      <td>677692.0</td>\n",
       "      <td>0</td>\n",
       "    </tr>\n",
       "    <tr>\n",
       "      <th>998</th>\n",
       "      <td>1000</td>\n",
       "      <td>811</td>\n",
       "      <td>PR</td>\n",
       "      <td>Feminino</td>\n",
       "      <td>28</td>\n",
       "      <td>4</td>\n",
       "      <td>16773882</td>\n",
       "      <td>2</td>\n",
       "      <td>1</td>\n",
       "      <td>1</td>\n",
       "      <td>990342.0</td>\n",
       "      <td>0</td>\n",
       "    </tr>\n",
       "  </tbody>\n",
       "</table>\n",
       "<p>999 rows × 12 columns</p>\n",
       "</div>"
      ],
      "text/plain": [
       "       X0   X1  X2         X3  X4  X4.1        X6  X7  X8  X9         X10  X11\n",
       "0       1  619  RS   Feminino  42     2         0   1   1   1  10134888.0    1\n",
       "1       2  608  SC   Feminino  41     1   8380786   1   0   1  11254258.0    0\n",
       "2       3  502  RS   Feminino  42     8   1596608   3   1   0  11393157.0    1\n",
       "3       4  699  RS   Feminino  39     1         0   2   0   0   9382663.0    0\n",
       "4       5  850  SC   Feminino  43     2  12551082   1   1   1    790841.0    0\n",
       "..    ...  ...  ..        ...  ..   ...       ...  ..  ..  ..         ...  ...\n",
       "994   996  838  SC  Masculino  43     9  12310588   2   1   0  14576583.0    0\n",
       "995   997  610  SC  Masculino  29     9         0   3   0   1   8391224.0    0\n",
       "996   998  811  SC  Masculino  44     3         0   2   0   1   7843973.0    0\n",
       "997   999  587  SC  Masculino  62     7  12128627   1   0   1    677692.0    0\n",
       "998  1000  811  PR   Feminino  28     4  16773882   2   1   1    990342.0    0\n",
       "\n",
       "[999 rows x 12 columns]"
      ]
     },
     "execution_count": 233,
     "metadata": {},
     "output_type": "execute_result"
    }
   ],
   "source": [
    "dataset = pd.read_csv(\"DADOS/Churn.csv\", sep=\";\")\n",
    "dataset"
   ]
  },
  {
   "cell_type": "code",
   "execution_count": 235,
   "id": "044f018a-758a-4fb3-a16b-136475c4512d",
   "metadata": {},
   "outputs": [],
   "source": [
    "dataset.columns = [\"ID\",\"SCORE\",\"ESTADOS\",\"GENERO\",\"IDADE\",\"PATRIMONIO\",\"SALDO\",\"PRODUTOS\",\"CARTAODECREDITO\",\"ATIVO\",\"SALARIO\",\"SAIU\"]"
   ]
  },
  {
   "cell_type": "code",
   "execution_count": 237,
   "id": "7b3e75c4-f1e6-467b-bb02-3b12426d0c24",
   "metadata": {},
   "outputs": [
    {
     "data": {
      "text/html": [
       "<div>\n",
       "<style scoped>\n",
       "    .dataframe tbody tr th:only-of-type {\n",
       "        vertical-align: middle;\n",
       "    }\n",
       "\n",
       "    .dataframe tbody tr th {\n",
       "        vertical-align: top;\n",
       "    }\n",
       "\n",
       "    .dataframe thead th {\n",
       "        text-align: right;\n",
       "    }\n",
       "</style>\n",
       "<table border=\"1\" class=\"dataframe\">\n",
       "  <thead>\n",
       "    <tr style=\"text-align: right;\">\n",
       "      <th></th>\n",
       "      <th>ID</th>\n",
       "      <th>SCORE</th>\n",
       "      <th>ESTADOS</th>\n",
       "      <th>GENERO</th>\n",
       "      <th>IDADE</th>\n",
       "      <th>PATRIMONIO</th>\n",
       "      <th>SALDO</th>\n",
       "      <th>PRODUTOS</th>\n",
       "      <th>CARTAODECREDITO</th>\n",
       "      <th>ATIVO</th>\n",
       "      <th>SALARIO</th>\n",
       "      <th>SAIU</th>\n",
       "    </tr>\n",
       "  </thead>\n",
       "  <tbody>\n",
       "    <tr>\n",
       "      <th>0</th>\n",
       "      <td>1</td>\n",
       "      <td>619</td>\n",
       "      <td>RS</td>\n",
       "      <td>Feminino</td>\n",
       "      <td>42</td>\n",
       "      <td>2</td>\n",
       "      <td>0</td>\n",
       "      <td>1</td>\n",
       "      <td>1</td>\n",
       "      <td>1</td>\n",
       "      <td>10134888.0</td>\n",
       "      <td>1</td>\n",
       "    </tr>\n",
       "    <tr>\n",
       "      <th>1</th>\n",
       "      <td>2</td>\n",
       "      <td>608</td>\n",
       "      <td>SC</td>\n",
       "      <td>Feminino</td>\n",
       "      <td>41</td>\n",
       "      <td>1</td>\n",
       "      <td>8380786</td>\n",
       "      <td>1</td>\n",
       "      <td>0</td>\n",
       "      <td>1</td>\n",
       "      <td>11254258.0</td>\n",
       "      <td>0</td>\n",
       "    </tr>\n",
       "    <tr>\n",
       "      <th>2</th>\n",
       "      <td>3</td>\n",
       "      <td>502</td>\n",
       "      <td>RS</td>\n",
       "      <td>Feminino</td>\n",
       "      <td>42</td>\n",
       "      <td>8</td>\n",
       "      <td>1596608</td>\n",
       "      <td>3</td>\n",
       "      <td>1</td>\n",
       "      <td>0</td>\n",
       "      <td>11393157.0</td>\n",
       "      <td>1</td>\n",
       "    </tr>\n",
       "    <tr>\n",
       "      <th>3</th>\n",
       "      <td>4</td>\n",
       "      <td>699</td>\n",
       "      <td>RS</td>\n",
       "      <td>Feminino</td>\n",
       "      <td>39</td>\n",
       "      <td>1</td>\n",
       "      <td>0</td>\n",
       "      <td>2</td>\n",
       "      <td>0</td>\n",
       "      <td>0</td>\n",
       "      <td>9382663.0</td>\n",
       "      <td>0</td>\n",
       "    </tr>\n",
       "    <tr>\n",
       "      <th>4</th>\n",
       "      <td>5</td>\n",
       "      <td>850</td>\n",
       "      <td>SC</td>\n",
       "      <td>Feminino</td>\n",
       "      <td>43</td>\n",
       "      <td>2</td>\n",
       "      <td>12551082</td>\n",
       "      <td>1</td>\n",
       "      <td>1</td>\n",
       "      <td>1</td>\n",
       "      <td>790841.0</td>\n",
       "      <td>0</td>\n",
       "    </tr>\n",
       "  </tbody>\n",
       "</table>\n",
       "</div>"
      ],
      "text/plain": [
       "   ID  SCORE ESTADOS    GENERO  IDADE  PATRIMONIO     SALDO  PRODUTOS  \\\n",
       "0   1    619      RS  Feminino     42           2         0         1   \n",
       "1   2    608      SC  Feminino     41           1   8380786         1   \n",
       "2   3    502      RS  Feminino     42           8   1596608         3   \n",
       "3   4    699      RS  Feminino     39           1         0         2   \n",
       "4   5    850      SC  Feminino     43           2  12551082         1   \n",
       "\n",
       "   CARTAODECREDITO  ATIVO     SALARIO  SAIU  \n",
       "0                1      1  10134888.0     1  \n",
       "1                0      1  11254258.0     0  \n",
       "2                1      0  11393157.0     1  \n",
       "3                0      0   9382663.0     0  \n",
       "4                1      1    790841.0     0  "
      ]
     },
     "execution_count": 237,
     "metadata": {},
     "output_type": "execute_result"
    }
   ],
   "source": [
    "dataset.head()"
   ]
  },
  {
   "cell_type": "code",
   "execution_count": 239,
   "id": "7b838241-5318-4337-b3b1-74c09adafd4c",
   "metadata": {},
   "outputs": [
    {
     "data": {
      "text/plain": [
       "ESTADOS\n",
       "PR    257\n",
       "RP      1\n",
       "RS    478\n",
       "SC    258\n",
       "SP      4\n",
       "TD      1\n",
       "dtype: int64"
      ]
     },
     "execution_count": 239,
     "metadata": {},
     "output_type": "execute_result"
    }
   ],
   "source": [
    "agrupado = dataset.groupby([\"ESTADOS\"]).size()\n",
    "agrupado"
   ]
  },
  {
   "cell_type": "code",
   "execution_count": 241,
   "id": "d027fced-9214-4142-b76f-5b6aafa90945",
   "metadata": {},
   "outputs": [
    {
     "data": {
      "text/plain": [
       "<Axes: xlabel='ESTADOS'>"
      ]
     },
     "execution_count": 241,
     "metadata": {},
     "output_type": "execute_result"
    },
    {
     "data": {
      "image/png": "[encoded data removed]",
      "text/plain": [
       "<Figure size 640x480 with 1 Axes>"
      ]
     },
     "metadata": {},
     "output_type": "display_data"
    }
   ],
   "source": [
    "agrupado.plot.bar(color = \"gray\")"
   ]
  },
  {
   "cell_type": "code",
   "execution_count": 243,
   "id": "e8b6f44c-e385-4067-8124-047a4c699d3d",
   "metadata": {},
   "outputs": [
    {
     "data": {
      "text/plain": [
       "GENERO\n",
       "F              2\n",
       "Fem            1\n",
       "Feminino     461\n",
       "M              6\n",
       "Masculino    521\n",
       "dtype: int64"
      ]
     },
     "execution_count": 243,
     "metadata": {},
     "output_type": "execute_result"
    }
   ],
   "source": [
    "agrupado = dataset.groupby([\"GENERO\"]).size()\n",
    "agrupado"
   ]
  },
  {
   "cell_type": "code",
   "execution_count": 245,
   "id": "3123f6b9-3cd1-418f-aeab-0d63fe61e198",
   "metadata": {},
   "outputs": [
    {
     "data": {
      "text/plain": [
       "<Axes: xlabel='GENERO'>"
      ]
     },
     "execution_count": 245,
     "metadata": {},
     "output_type": "execute_result"
    },
    {
     "data": {
      "image/png": "[encoded data removed]",
      "text/plain": [
       "<Figure size 640x480 with 1 Axes>"
      ]
     },
     "metadata": {},
     "output_type": "display_data"
    }
   ],
   "source": [
    "agrupado.plot.bar(color=\"gray\")"
   ]
  },
  {
   "cell_type": "code",
   "execution_count": 246,
   "id": "8f32ab97-294d-411f-afe7-bd3ed7109424",
   "metadata": {},
   "outputs": [
    {
     "data": {
      "text/plain": [
       "count    999.000000\n",
       "mean     648.621622\n",
       "std       98.264219\n",
       "min      376.000000\n",
       "25%      580.000000\n",
       "50%      653.000000\n",
       "75%      721.000000\n",
       "max      850.000000\n",
       "Name: SCORE, dtype: float64"
      ]
     },
     "execution_count": 246,
     "metadata": {},
     "output_type": "execute_result"
    }
   ],
   "source": [
    "dataset[\"SCORE\"].describe()"
   ]
  },
  {
   "cell_type": "code",
   "execution_count": 247,
   "id": "5f894ab9-a469-4abb-9afd-349a626f004f",
   "metadata": {},
   "outputs": [
    {
     "data": {
      "text/plain": [
       "Text(0.5, 1.0, 'SCORE')"
      ]
     },
     "execution_count": 247,
     "metadata": {},
     "output_type": "execute_result"
    },
    {
     "data": {
      "image/png": "[encoded data removed]",
      "text/plain": [
       "<Figure size 640x480 with 1 Axes>"
      ]
     },
     "metadata": {},
     "output_type": "display_data"
    }
   ],
   "source": [
    "srn.boxplot(dataset[\"SCORE\"]).set_title(\"SCORE\")"
   ]
  },
  {
   "cell_type": "code",
   "execution_count": 248,
   "id": "1cb57803-d6e8-4880-a1e3-ba07629defea",
   "metadata": {},
   "outputs": [
    {
     "name": "stderr",
     "output_type": "stream",
     "text": [
      "C:\\Users\\gustavo\\AppData\\Local\\Temp\\ipykernel_15016\\1029781818.py:1: UserWarning: \n",
      "\n",
      "`distplot` is a deprecated function and will be removed in seaborn v0.14.0.\n",
      "\n",
      "Please adapt your code to use either `displot` (a figure-level function with\n",
      "similar flexibility) or `histplot` (an axes-level function for histograms).\n",
      "\n",
      "For a guide to updating your code to use the new functions, please see\n",
      "https://gist.github.com/mwaskom/de44147ed2974457ad6372750bbe5751\n",
      "\n",
      "  srn.distplot(dataset[\"SCORE\"]).set_title(\"SCORE\")\n"
     ]
    },
    {
     "data": {
      "text/plain": [
       "Text(0.5, 1.0, 'SCORE')"
      ]
     },
     "execution_count": 248,
     "metadata": {},
     "output_type": "execute_result"
    },
    {
     "data": {
      "image/png": "[encoded data removed]",
      "text/plain": [
       "<Figure size 640x480 with 1 Axes>"
      ]
     },
     "metadata": {},
     "output_type": "display_data"
    }
   ],
   "source": [
    "srn.distplot(dataset[\"SCORE\"]).set_title(\"SCORE\")"
   ]
  },
  {
   "cell_type": "code",
   "execution_count": 249,
   "id": "d017de9c-902c-4c84-93cc-f4089e8ade19",
   "metadata": {},
   "outputs": [
    {
     "data": {
      "text/plain": [
       "count    999.000000\n",
       "mean      38.902903\n",
       "std       11.401912\n",
       "min      -20.000000\n",
       "25%       32.000000\n",
       "50%       37.000000\n",
       "75%       44.000000\n",
       "max      140.000000\n",
       "Name: IDADE, dtype: float64"
      ]
     },
     "execution_count": 249,
     "metadata": {},
     "output_type": "execute_result"
    }
   ],
   "source": [
    "dataset[\"IDADE\"].describe()"
   ]
  },
  {
   "cell_type": "code",
   "execution_count": 252,
   "id": "127a21fd-c0dd-4141-ac78-3081463c459d",
   "metadata": {},
   "outputs": [
    {
     "data": {
      "text/plain": [
       "Text(0.5, 1.0, 'IDADE')"
      ]
     },
     "execution_count": 252,
     "metadata": {},
     "output_type": "execute_result"
    },
    {
     "data": {
      "image/png": "[encoded data removed]",
      "text/plain": [
       "<Figure size 640x480 with 1 Axes>"
      ]
     },
     "metadata": {},
     "output_type": "display_data"
    }
   ],
   "source": [
    "srn.boxplot(dataset[\"IDADE\"]).set_title(\"IDADE\")"
   ]
  },
  {
   "cell_type": "code",
   "execution_count": 254,
   "id": "410f47a7-4074-4fc2-929a-b9ff9a41d61b",
   "metadata": {},
   "outputs": [
    {
     "name": "stderr",
     "output_type": "stream",
     "text": [
      "C:\\Users\\gustavo\\AppData\\Local\\Temp\\ipykernel_15016\\1143678629.py:1: UserWarning: \n",
      "\n",
      "`distplot` is a deprecated function and will be removed in seaborn v0.14.0.\n",
      "\n",
      "Please adapt your code to use either `displot` (a figure-level function with\n",
      "similar flexibility) or `histplot` (an axes-level function for histograms).\n",
      "\n",
      "For a guide to updating your code to use the new functions, please see\n",
      "https://gist.github.com/mwaskom/de44147ed2974457ad6372750bbe5751\n",
      "\n",
      "  srn.distplot(dataset[\"IDADE\"]).set_title(\"IDADE\")\n"
     ]
    },
    {
     "data": {
      "text/plain": [
       "Text(0.5, 1.0, 'IDADE')"
      ]
     },
     "execution_count": 254,
     "metadata": {},
     "output_type": "execute_result"
    },
    {
     "data": {
      "image/png": "[encoded data removed]",
      "text/plain": [
       "<Figure size 640x480 with 1 Axes>"
      ]
     },
     "metadata": {},
     "output_type": "display_data"
    }
   ],
   "source": [
    "srn.distplot(dataset[\"IDADE\"]).set_title(\"IDADE\")"
   ]
  },
  {
   "cell_type": "code",
   "execution_count": 255,
   "id": "d290f4b0-f9d8-4548-a9a6-6883a5848f55",
   "metadata": {},
   "outputs": [
    {
     "data": {
      "text/plain": [
       "count    9.990000e+02\n",
       "mean     7.164928e+06\n",
       "std      6.311840e+06\n",
       "min      0.000000e+00\n",
       "25%      0.000000e+00\n",
       "50%      8.958835e+06\n",
       "75%      1.258684e+07\n",
       "max      2.117743e+07\n",
       "Name: SALDO, dtype: float64"
      ]
     },
     "execution_count": 255,
     "metadata": {},
     "output_type": "execute_result"
    }
   ],
   "source": [
    "dataset[\"SALDO\"].describe()"
   ]
  },
  {
   "cell_type": "code",
   "execution_count": 258,
   "id": "8b5c9175-fb9d-492e-b70e-f4654be6f095",
   "metadata": {},
   "outputs": [
    {
     "ename": "AttributeError",
     "evalue": "'Axes' object has no attribute 'set_describe'",
     "output_type": "error",
     "traceback": [
      "\u001b[1;31m---------------------------------------------------------------------------\u001b[0m",
      "\u001b[1;31mAttributeError\u001b[0m                            Traceback (most recent call last)",
      "Cell \u001b[1;32mIn[258], line 1\u001b[0m\n\u001b[1;32m----> 1\u001b[0m srn\u001b[38;5;241m.\u001b[39mboxplot(dataset[\u001b[38;5;124m\"\u001b[39m\u001b[38;5;124mSALDO\u001b[39m\u001b[38;5;124m\"\u001b[39m])\u001b[38;5;241m.\u001b[39mset_describe(\u001b[38;5;124m\"\u001b[39m\u001b[38;5;124mSALDO\u001b[39m\u001b[38;5;124m\"\u001b[39m)\n",
      "\u001b[1;31mAttributeError\u001b[0m: 'Axes' object has no attribute 'set_describe'"
     ]
    },
    {
     "data": {
      "image/png": "[encoded data removed]",
      "text/plain": [
       "<Figure size 640x480 with 1 Axes>"
      ]
     },
     "metadata": {},
     "output_type": "display_data"
    }
   ],
   "source": [
    "srn.boxplot(dataset[\"SALDO\"]).set_describe(\"SALDO\")"
   ]
  },
  {
   "cell_type": "code",
   "execution_count": null,
   "id": "1105f008-08bf-46ed-a17d-ff60aba86b92",
   "metadata": {},
   "outputs": [],
   "source": [
    "srn.distplot(dataset[\"SALDO\"]).set_describe()"
   ]
  },
  {
   "cell_type": "code",
   "execution_count": 260,
   "id": "8d12e4c5-8e39-4db5-8e10-56055e80faa9",
   "metadata": {},
   "outputs": [
    {
     "data": {
      "text/plain": [
       "count    9.920000e+02\n",
       "mean     3.528762e+07\n",
       "std      5.305800e+08\n",
       "min      9.677000e+03\n",
       "25%      3.029011e+06\n",
       "50%      8.703250e+06\n",
       "75%      1.405213e+07\n",
       "max      1.193469e+10\n",
       "Name: SALARIO, dtype: float64"
      ]
     },
     "execution_count": 260,
     "metadata": {},
     "output_type": "execute_result"
    }
   ],
   "source": [
    "dataset[\"SALARIO\"].describe()"
   ]
  },
  {
   "cell_type": "code",
   "execution_count": 262,
   "id": "6426fbfa-d13d-48ed-96de-ed7473922976",
   "metadata": {},
   "outputs": [
    {
     "data": {
      "text/plain": [
       "Text(0.5, 1.0, 'SALARIO')"
      ]
     },
     "execution_count": 262,
     "metadata": {},
     "output_type": "execute_result"
    },
    {
     "data": {
      "image/png": "[encoded data removed]",
      "text/plain": [
       "<Figure size 640x480 with 1 Axes>"
      ]
     },
     "metadata": {},
     "output_type": "display_data"
    }
   ],
   "source": [
    "srn.boxplot(dataset[\"SALARIO\"]).set_title(\"SALARIO\")"
   ]
  },
  {
   "cell_type": "code",
   "execution_count": 264,
   "id": "b4213f0f-2677-44e2-aa97-86e224f1f53d",
   "metadata": {},
   "outputs": [
    {
     "name": "stderr",
     "output_type": "stream",
     "text": [
      "C:\\Users\\gustavo\\AppData\\Local\\Temp\\ipykernel_15016\\733127729.py:1: UserWarning: \n",
      "\n",
      "`distplot` is a deprecated function and will be removed in seaborn v0.14.0.\n",
      "\n",
      "Please adapt your code to use either `displot` (a figure-level function with\n",
      "similar flexibility) or `histplot` (an axes-level function for histograms).\n",
      "\n",
      "For a guide to updating your code to use the new functions, please see\n",
      "https://gist.github.com/mwaskom/de44147ed2974457ad6372750bbe5751\n",
      "\n",
      "  srn.distplot(dataset[\"SALARIO\"]).set_title(\"SALARIO\")\n"
     ]
    },
    {
     "data": {
      "text/plain": [
       "Text(0.5, 1.0, 'SALARIO')"
      ]
     },
     "execution_count": 264,
     "metadata": {},
     "output_type": "execute_result"
    },
    {
     "data": {
      "image/png": "[encoded data removed]",
      "text/plain": [
       "<Figure size 640x480 with 1 Axes>"
      ]
     },
     "metadata": {},
     "output_type": "display_data"
    }
   ],
   "source": [
    "srn.distplot(dataset[\"SALARIO\"]).set_title(\"SALARIO\")"
   ]
  },
  {
   "cell_type": "code",
   "execution_count": 266,
   "id": "6a3eb9e8-387b-4818-97d0-eb09f70b43e0",
   "metadata": {},
   "outputs": [
    {
     "data": {
      "text/plain": [
       "ID                 0\n",
       "SCORE              0\n",
       "ESTADOS            0\n",
       "GENERO             8\n",
       "IDADE              0\n",
       "PATRIMONIO         0\n",
       "SALDO              0\n",
       "PRODUTOS           0\n",
       "CARTAODECREDITO    0\n",
       "ATIVO              0\n",
       "SALARIO            7\n",
       "SAIU               0\n",
       "dtype: int64"
      ]
     },
     "execution_count": 266,
     "metadata": {},
     "output_type": "execute_result"
    }
   ],
   "source": [
    "dataset.isnull().sum()"
   ]
  },
  {
   "cell_type": "markdown",
   "id": "a8c352e1-79c0-4ddf-bcf8-38325a93d8f7",
   "metadata": {},
   "source": [
    "COMEÇANDO O TRATAMENTO DOS DADOS"
   ]
  },
  {
   "cell_type": "code",
   "execution_count": 269,
   "id": "e0812614-7e5f-44b6-a369-fbd872453437",
   "metadata": {},
   "outputs": [
    {
     "data": {
      "text/plain": [
       "count    9.920000e+02\n",
       "mean     3.528762e+07\n",
       "std      5.305800e+08\n",
       "min      9.677000e+03\n",
       "25%      3.029011e+06\n",
       "50%      8.703250e+06\n",
       "75%      1.405213e+07\n",
       "max      1.193469e+10\n",
       "Name: SALARIO, dtype: float64"
      ]
     },
     "execution_count": 269,
     "metadata": {},
     "output_type": "execute_result"
    }
   ],
   "source": [
    "dataset[\"SALARIO\"].describe()"
   ]
  },
  {
   "cell_type": "code",
   "execution_count": 271,
   "id": "a5b5fab1-a51d-41c8-be78-3778d08a4793",
   "metadata": {},
   "outputs": [
    {
     "data": {
      "text/plain": [
       "70518.0"
      ]
     },
     "execution_count": 271,
     "metadata": {},
     "output_type": "execute_result"
    }
   ],
   "source": [
    "mediana = sts.median(dataset[\"SALARIO\"])\n",
    "mediana"
   ]
  },
  {
   "cell_type": "code",
   "execution_count": 273,
   "id": "2354ad97-5631-4844-a0ab-6df5335ec265",
   "metadata": {},
   "outputs": [
    {
     "data": {
      "text/plain": [
       "7"
      ]
     },
     "execution_count": 273,
     "metadata": {},
     "output_type": "execute_result"
    }
   ],
   "source": [
    "dataset[\"SALARIO\"].isnull().sum()"
   ]
  },
  {
   "cell_type": "code",
   "execution_count": 275,
   "id": "2a4802ee-e03f-42d3-9399-2d8d70bb4a2f",
   "metadata": {},
   "outputs": [],
   "source": [
    "#dataset.fillna({\"SALARIO\": mediana}, inplace=True)\n",
    "\n",
    "dataset.fillna({\"SALARIO\": mediana}, inplace=True)"
   ]
  },
  {
   "cell_type": "code",
   "execution_count": 277,
   "id": "d764c345-4195-4ded-8747-4e50451451b9",
   "metadata": {},
   "outputs": [
    {
     "data": {
      "text/plain": [
       "ID                 0\n",
       "SCORE              0\n",
       "ESTADOS            0\n",
       "GENERO             8\n",
       "IDADE              0\n",
       "PATRIMONIO         0\n",
       "SALDO              0\n",
       "PRODUTOS           0\n",
       "CARTAODECREDITO    0\n",
       "ATIVO              0\n",
       "SALARIO            0\n",
       "SAIU               0\n",
       "dtype: int64"
      ]
     },
     "execution_count": 277,
     "metadata": {},
     "output_type": "execute_result"
    }
   ],
   "source": [
    "dataset.isnull().sum()"
   ]
  },
  {
   "cell_type": "code",
   "execution_count": 281,
   "id": "7d7033ba-7cb9-4bf3-818b-bfd1fa962e25",
   "metadata": {},
   "outputs": [
    {
     "data": {
      "text/plain": [
       "GENERO\n",
       "F              2\n",
       "Fem            1\n",
       "Feminino     461\n",
       "M              6\n",
       "Masculino    521\n",
       "dtype: int64"
      ]
     },
     "execution_count": 281,
     "metadata": {},
     "output_type": "execute_result"
    }
   ],
   "source": [
    "agrupado = dataset.groupby([\"GENERO\"]).size()\n",
    "agrupado"
   ]
  },
  {
   "cell_type": "code",
   "execution_count": 287,
   "id": "3f59247c-9834-4183-b026-d8c00f2fb220",
   "metadata": {},
   "outputs": [],
   "source": [
    "#MODA SEMRPE USAMOS COM TEXTO VALORES QUE MAIS SE REPETEM\n",
    "\n",
    "#dataset.fillna({\"GENERO\": \"Masculino\"}, inplace=True)\n",
    "\n",
    "dataset.fillna({\"GENERO\": \"Masculino\"}, inplace=True)"
   ]
  },
  {
   "cell_type": "code",
   "execution_count": 291,
   "id": "07a3d0b0-dad6-443a-890d-0efd2471a3b0",
   "metadata": {},
   "outputs": [
    {
     "data": {
      "text/plain": [
       "0"
      ]
     },
     "execution_count": 291,
     "metadata": {},
     "output_type": "execute_result"
    }
   ],
   "source": [
    "dataset[\"GENERO\"].isnull().sum()"
   ]
  },
  {
   "cell_type": "code",
   "execution_count": 299,
   "id": "137b3fa5-ce30-4329-b5e5-0e2368f020db",
   "metadata": {},
   "outputs": [
    {
     "data": {
      "text/plain": [
       "GENERO\n",
       "Feminino     464\n",
       "Masculino    535\n",
       "dtype: int64"
      ]
     },
     "execution_count": 299,
     "metadata": {},
     "output_type": "execute_result"
    }
   ],
   "source": [
    "dataset.loc[dataset[\"GENERO\"]== \"M\", \"GENERO\"] = \"Masculino\"\n",
    "\n",
    "\n",
    "#dataset.loc[dataset[\"GENERO\"].isin ([\"F\",\"Fem\"]), \"GENERO\"] = \"Feminino\"\n",
    "\n",
    "dataset.loc[dataset[\"GENERO\"]== \"F\", \"GENERO\"] = \"Feminino\"\n",
    "dataset.loc[dataset[\"GENERO\"] == \"Fem\", \"GENERO\"] = \"Feminino\"\n",
    "\n",
    "\n",
    "agrupado = dataset.groupby([\"GENERO\"]).size()\n",
    "agrupado"
   ]
  },
  {
   "cell_type": "code",
   "execution_count": 301,
   "id": "a35f8083-cb72-44d8-891a-5cc234feafde",
   "metadata": {},
   "outputs": [
    {
     "data": {
      "text/plain": [
       "count    999.000000\n",
       "mean      38.902903\n",
       "std       11.401912\n",
       "min      -20.000000\n",
       "25%       32.000000\n",
       "50%       37.000000\n",
       "75%       44.000000\n",
       "max      140.000000\n",
       "Name: IDADE, dtype: float64"
      ]
     },
     "execution_count": 301,
     "metadata": {},
     "output_type": "execute_result"
    }
   ],
   "source": [
    "dataset[\"IDADE\"].describe()"
   ]
  },
  {
   "cell_type": "code",
   "execution_count": 309,
   "id": "3ad701b7-4e07-453e-9dfc-e91dd93d72ca",
   "metadata": {},
   "outputs": [
    {
     "data": {
      "text/html": [
       "<div>\n",
       "<style scoped>\n",
       "    .dataframe tbody tr th:only-of-type {\n",
       "        vertical-align: middle;\n",
       "    }\n",
       "\n",
       "    .dataframe tbody tr th {\n",
       "        vertical-align: top;\n",
       "    }\n",
       "\n",
       "    .dataframe thead th {\n",
       "        text-align: right;\n",
       "    }\n",
       "</style>\n",
       "<table border=\"1\" class=\"dataframe\">\n",
       "  <thead>\n",
       "    <tr style=\"text-align: right;\">\n",
       "      <th></th>\n",
       "      <th>ID</th>\n",
       "      <th>SCORE</th>\n",
       "      <th>ESTADOS</th>\n",
       "      <th>GENERO</th>\n",
       "      <th>IDADE</th>\n",
       "      <th>PATRIMONIO</th>\n",
       "      <th>SALDO</th>\n",
       "      <th>PRODUTOS</th>\n",
       "      <th>CARTAODECREDITO</th>\n",
       "      <th>ATIVO</th>\n",
       "      <th>SALARIO</th>\n",
       "      <th>SAIU</th>\n",
       "    </tr>\n",
       "  </thead>\n",
       "  <tbody>\n",
       "    <tr>\n",
       "      <th>867</th>\n",
       "      <td>869</td>\n",
       "      <td>636</td>\n",
       "      <td>RS</td>\n",
       "      <td>Feminino</td>\n",
       "      <td>-10</td>\n",
       "      <td>1</td>\n",
       "      <td>17083346</td>\n",
       "      <td>1</td>\n",
       "      <td>1</td>\n",
       "      <td>0</td>\n",
       "      <td>11051028.0</td>\n",
       "      <td>1</td>\n",
       "    </tr>\n",
       "    <tr>\n",
       "      <th>984</th>\n",
       "      <td>986</td>\n",
       "      <td>773</td>\n",
       "      <td>RS</td>\n",
       "      <td>Masculino</td>\n",
       "      <td>-20</td>\n",
       "      <td>1</td>\n",
       "      <td>12453278</td>\n",
       "      <td>2</td>\n",
       "      <td>0</td>\n",
       "      <td>1</td>\n",
       "      <td>1172357.0</td>\n",
       "      <td>0</td>\n",
       "    </tr>\n",
       "    <tr>\n",
       "      <th>990</th>\n",
       "      <td>992</td>\n",
       "      <td>655</td>\n",
       "      <td>RS</td>\n",
       "      <td>Masculino</td>\n",
       "      <td>140</td>\n",
       "      <td>5</td>\n",
       "      <td>93147</td>\n",
       "      <td>2</td>\n",
       "      <td>1</td>\n",
       "      <td>0</td>\n",
       "      <td>6621413.0</td>\n",
       "      <td>0</td>\n",
       "    </tr>\n",
       "  </tbody>\n",
       "</table>\n",
       "</div>"
      ],
      "text/plain": [
       "      ID  SCORE ESTADOS     GENERO  IDADE  PATRIMONIO     SALDO  PRODUTOS  \\\n",
       "867  869    636      RS   Feminino    -10           1  17083346         1   \n",
       "984  986    773      RS  Masculino    -20           1  12453278         2   \n",
       "990  992    655      RS  Masculino    140           5     93147         2   \n",
       "\n",
       "     CARTAODECREDITO  ATIVO     SALARIO  SAIU  \n",
       "867                1      0  11051028.0     1  \n",
       "984                0      1   1172357.0     0  \n",
       "990                1      0   6621413.0     0  "
      ]
     },
     "execution_count": 309,
     "metadata": {},
     "output_type": "execute_result"
    }
   ],
   "source": [
    "dataset.loc[(dataset[\"IDADE\"]< 0) | (dataset[\"IDADE\"]> 120)]"
   ]
  },
  {
   "cell_type": "code",
   "execution_count": 322,
   "id": "4f36878c-9997-4aa1-ae16-d939136abee7",
   "metadata": {},
   "outputs": [
    {
     "data": {
      "text/plain": [
       "37"
      ]
     },
     "execution_count": 322,
     "metadata": {},
     "output_type": "execute_result"
    }
   ],
   "source": [
    "mediana = sts.median(dataset[\"IDADE\"])\n",
    "mediana\n",
    "\n",
    "#CALCULAR A MEDIANA"
   ]
  },
  {
   "cell_type": "code",
   "execution_count": 334,
   "id": "b6435dfb-a7dc-4cdf-a32f-a6f99a93c15a",
   "metadata": {},
   "outputs": [],
   "source": [
    "dataset.loc[(dataset[\"IDADE\"]<0) | (dataset[\"IDADE\"] >120),\"IDADE\"] = mediana\n",
    "\n",
    "#SUBISTITUIR OS VALORES PELA MEDIANA"
   ]
  },
  {
   "cell_type": "code",
   "execution_count": 336,
   "id": "5dfeeb75-393c-4745-955c-c0540de9949d",
   "metadata": {},
   "outputs": [
    {
     "data": {
      "text/html": [
       "<div>\n",
       "<style scoped>\n",
       "    .dataframe tbody tr th:only-of-type {\n",
       "        vertical-align: middle;\n",
       "    }\n",
       "\n",
       "    .dataframe tbody tr th {\n",
       "        vertical-align: top;\n",
       "    }\n",
       "\n",
       "    .dataframe thead th {\n",
       "        text-align: right;\n",
       "    }\n",
       "</style>\n",
       "<table border=\"1\" class=\"dataframe\">\n",
       "  <thead>\n",
       "    <tr style=\"text-align: right;\">\n",
       "      <th></th>\n",
       "      <th>ID</th>\n",
       "      <th>SCORE</th>\n",
       "      <th>ESTADOS</th>\n",
       "      <th>GENERO</th>\n",
       "      <th>IDADE</th>\n",
       "      <th>PATRIMONIO</th>\n",
       "      <th>SALDO</th>\n",
       "      <th>PRODUTOS</th>\n",
       "      <th>CARTAODECREDITO</th>\n",
       "      <th>ATIVO</th>\n",
       "      <th>SALARIO</th>\n",
       "      <th>SAIU</th>\n",
       "    </tr>\n",
       "  </thead>\n",
       "  <tbody>\n",
       "  </tbody>\n",
       "</table>\n",
       "</div>"
      ],
      "text/plain": [
       "Empty DataFrame\n",
       "Columns: [ID, SCORE, ESTADOS, GENERO, IDADE, PATRIMONIO, SALDO, PRODUTOS, CARTAODECREDITO, ATIVO, SALARIO, SAIU]\n",
       "Index: []"
      ]
     },
     "execution_count": 336,
     "metadata": {},
     "output_type": "execute_result"
    }
   ],
   "source": [
    "dataset.loc[(dataset[\"IDADE\"]<0) | (dataset[\"IDADE\"]> 120)]"
   ]
  },
  {
   "cell_type": "code",
   "execution_count": 340,
   "id": "19e63863-94ed-4f6e-a89e-60dba8c16fc1",
   "metadata": {},
   "outputs": [
    {
     "data": {
      "text/html": [
       "<div>\n",
       "<style scoped>\n",
       "    .dataframe tbody tr th:only-of-type {\n",
       "        vertical-align: middle;\n",
       "    }\n",
       "\n",
       "    .dataframe tbody tr th {\n",
       "        vertical-align: top;\n",
       "    }\n",
       "\n",
       "    .dataframe thead th {\n",
       "        text-align: right;\n",
       "    }\n",
       "</style>\n",
       "<table border=\"1\" class=\"dataframe\">\n",
       "  <thead>\n",
       "    <tr style=\"text-align: right;\">\n",
       "      <th></th>\n",
       "      <th>ID</th>\n",
       "      <th>SCORE</th>\n",
       "      <th>ESTADOS</th>\n",
       "      <th>GENERO</th>\n",
       "      <th>IDADE</th>\n",
       "      <th>PATRIMONIO</th>\n",
       "      <th>SALDO</th>\n",
       "      <th>PRODUTOS</th>\n",
       "      <th>CARTAODECREDITO</th>\n",
       "      <th>ATIVO</th>\n",
       "      <th>SALARIO</th>\n",
       "      <th>SAIU</th>\n",
       "    </tr>\n",
       "  </thead>\n",
       "  <tbody>\n",
       "    <tr>\n",
       "      <th>36</th>\n",
       "      <td>37</td>\n",
       "      <td>490</td>\n",
       "      <td>SC</td>\n",
       "      <td>Masculino</td>\n",
       "      <td>31</td>\n",
       "      <td>3</td>\n",
       "      <td>14526023</td>\n",
       "      <td>1</td>\n",
       "      <td>0</td>\n",
       "      <td>1</td>\n",
       "      <td>11406677.0</td>\n",
       "      <td>0</td>\n",
       "    </tr>\n",
       "    <tr>\n",
       "      <th>80</th>\n",
       "      <td>81</td>\n",
       "      <td>665</td>\n",
       "      <td>RS</td>\n",
       "      <td>Feminino</td>\n",
       "      <td>34</td>\n",
       "      <td>1</td>\n",
       "      <td>9664554</td>\n",
       "      <td>2</td>\n",
       "      <td>0</td>\n",
       "      <td>0</td>\n",
       "      <td>17141366.0</td>\n",
       "      <td>0</td>\n",
       "    </tr>\n",
       "    <tr>\n",
       "      <th>81</th>\n",
       "      <td>81</td>\n",
       "      <td>665</td>\n",
       "      <td>RS</td>\n",
       "      <td>Feminino</td>\n",
       "      <td>34</td>\n",
       "      <td>1</td>\n",
       "      <td>9664554</td>\n",
       "      <td>2</td>\n",
       "      <td>0</td>\n",
       "      <td>0</td>\n",
       "      <td>17141366.0</td>\n",
       "      <td>0</td>\n",
       "    </tr>\n",
       "    <tr>\n",
       "      <th>867</th>\n",
       "      <td>37</td>\n",
       "      <td>37</td>\n",
       "      <td>37</td>\n",
       "      <td>37</td>\n",
       "      <td>37</td>\n",
       "      <td>37</td>\n",
       "      <td>37</td>\n",
       "      <td>37</td>\n",
       "      <td>37</td>\n",
       "      <td>37</td>\n",
       "      <td>37.0</td>\n",
       "      <td>37</td>\n",
       "    </tr>\n",
       "    <tr>\n",
       "      <th>984</th>\n",
       "      <td>37</td>\n",
       "      <td>37</td>\n",
       "      <td>37</td>\n",
       "      <td>37</td>\n",
       "      <td>37</td>\n",
       "      <td>37</td>\n",
       "      <td>37</td>\n",
       "      <td>37</td>\n",
       "      <td>37</td>\n",
       "      <td>37</td>\n",
       "      <td>37.0</td>\n",
       "      <td>37</td>\n",
       "    </tr>\n",
       "    <tr>\n",
       "      <th>990</th>\n",
       "      <td>37</td>\n",
       "      <td>37</td>\n",
       "      <td>37</td>\n",
       "      <td>37</td>\n",
       "      <td>37</td>\n",
       "      <td>37</td>\n",
       "      <td>37</td>\n",
       "      <td>37</td>\n",
       "      <td>37</td>\n",
       "      <td>37</td>\n",
       "      <td>37.0</td>\n",
       "      <td>37</td>\n",
       "    </tr>\n",
       "  </tbody>\n",
       "</table>\n",
       "</div>"
      ],
      "text/plain": [
       "     ID  SCORE ESTADOS     GENERO  IDADE  PATRIMONIO     SALDO  PRODUTOS  \\\n",
       "36   37    490      SC  Masculino     31           3  14526023         1   \n",
       "80   81    665      RS   Feminino     34           1   9664554         2   \n",
       "81   81    665      RS   Feminino     34           1   9664554         2   \n",
       "867  37     37      37         37     37          37        37        37   \n",
       "984  37     37      37         37     37          37        37        37   \n",
       "990  37     37      37         37     37          37        37        37   \n",
       "\n",
       "     CARTAODECREDITO  ATIVO     SALARIO  SAIU  \n",
       "36                 0      1  11406677.0     0  \n",
       "80                 0      0  17141366.0     0  \n",
       "81                 0      0  17141366.0     0  \n",
       "867               37     37        37.0    37  \n",
       "984               37     37        37.0    37  \n",
       "990               37     37        37.0    37  "
      ]
     },
     "execution_count": 340,
     "metadata": {},
     "output_type": "execute_result"
    }
   ],
   "source": [
    "# DADOS DDUPLICADOS\n",
    "\n",
    "dataset[dataset.duplicated([\"ID\"], keep=False)]\n"
   ]
  },
  {
   "cell_type": "code",
   "execution_count": 346,
   "id": "0b0c7285-425f-4c3b-83d3-aabc958cf133",
   "metadata": {},
   "outputs": [
    {
     "data": {
      "text/html": [
       "<div>\n",
       "<style scoped>\n",
       "    .dataframe tbody tr th:only-of-type {\n",
       "        vertical-align: middle;\n",
       "    }\n",
       "\n",
       "    .dataframe tbody tr th {\n",
       "        vertical-align: top;\n",
       "    }\n",
       "\n",
       "    .dataframe thead th {\n",
       "        text-align: right;\n",
       "    }\n",
       "</style>\n",
       "<table border=\"1\" class=\"dataframe\">\n",
       "  <thead>\n",
       "    <tr style=\"text-align: right;\">\n",
       "      <th></th>\n",
       "      <th>ID</th>\n",
       "      <th>SCORE</th>\n",
       "      <th>ESTADOS</th>\n",
       "      <th>GENERO</th>\n",
       "      <th>IDADE</th>\n",
       "      <th>PATRIMONIO</th>\n",
       "      <th>SALDO</th>\n",
       "      <th>PRODUTOS</th>\n",
       "      <th>CARTAODECREDITO</th>\n",
       "      <th>ATIVO</th>\n",
       "      <th>SALARIO</th>\n",
       "      <th>SAIU</th>\n",
       "    </tr>\n",
       "  </thead>\n",
       "  <tbody>\n",
       "  </tbody>\n",
       "</table>\n",
       "</div>"
      ],
      "text/plain": [
       "Empty DataFrame\n",
       "Columns: [ID, SCORE, ESTADOS, GENERO, IDADE, PATRIMONIO, SALDO, PRODUTOS, CARTAODECREDITO, ATIVO, SALARIO, SAIU]\n",
       "Index: []"
      ]
     },
     "execution_count": 346,
     "metadata": {},
     "output_type": "execute_result"
    }
   ],
   "source": [
    "# ELIMINAR VALORES DUPLICADOS\n",
    "\n",
    "dataset.drop_duplicates(subset=\"ID\", keep=\"first\", inplace=True)\n",
    "\n",
    "#VERIFICANDO NOVAMENTE\n",
    "dataset[dataset.duplicated([\"ID\"], keep = False)]"
   ]
  },
  {
   "cell_type": "code",
   "execution_count": 348,
   "id": "42318bf5-6c4a-452a-bef6-788f61a0622c",
   "metadata": {},
   "outputs": [
    {
     "data": {
      "text/plain": [
       "ESTADOS\n",
       "PR    257\n",
       "RP      1\n",
       "RS    474\n",
       "SC    258\n",
       "SP      4\n",
       "TD      1\n",
       "dtype: int64"
      ]
     },
     "execution_count": 348,
     "metadata": {},
     "output_type": "execute_result"
    }
   ],
   "source": [
    "agrupado = dataset.groupby([\"ESTADOS\"]).size()\n",
    "agrupado"
   ]
  },
  {
   "cell_type": "code",
   "execution_count": 350,
   "id": "807927ff-b5b3-4317-81c5-0931b7863e06",
   "metadata": {},
   "outputs": [
    {
     "data": {
      "text/plain": [
       "ESTADOS\n",
       "PR    257\n",
       "RS    480\n",
       "SC    258\n",
       "dtype: int64"
      ]
     },
     "execution_count": 350,
     "metadata": {},
     "output_type": "execute_result"
    }
   ],
   "source": [
    "dataset.loc[dataset[\"ESTADOS\"].isin ([\"RP\",\"SP\",\"TD\"]), \"ESTADOS\"]= \"RS\"\n",
    "\n",
    "agrupado = dataset.groupby([\"ESTADOS\"]).size()\n",
    "agrupado"
   ]
  },
  {
   "cell_type": "markdown",
   "id": "68d6bb02-ddd8-410d-85cb-c3fe18dd23cc",
   "metadata": {},
   "source": [
    "TRATANDO UM OUTLIERS"
   ]
  },
  {
   "cell_type": "code",
   "execution_count": 353,
   "id": "ea2bff2c-073e-4a23-b464-c529239b1623",
   "metadata": {},
   "outputs": [
    {
     "data": {
      "text/plain": [
       "529784177.60963464"
      ]
     },
     "execution_count": 353,
     "metadata": {},
     "output_type": "execute_result"
    }
   ],
   "source": [
    "desv = sts.stdev(dataset[\"SALARIO\"])\n",
    "desv"
   ]
  },
  {
   "cell_type": "code",
   "execution_count": 355,
   "id": "fd3ba635-750a-4ae2-9c96-7eba7417afee",
   "metadata": {},
   "outputs": [
    {
     "data": {
      "text/html": [
       "<div>\n",
       "<style scoped>\n",
       "    .dataframe tbody tr th:only-of-type {\n",
       "        vertical-align: middle;\n",
       "    }\n",
       "\n",
       "    .dataframe tbody tr th {\n",
       "        vertical-align: top;\n",
       "    }\n",
       "\n",
       "    .dataframe thead th {\n",
       "        text-align: right;\n",
       "    }\n",
       "</style>\n",
       "<table border=\"1\" class=\"dataframe\">\n",
       "  <thead>\n",
       "    <tr style=\"text-align: right;\">\n",
       "      <th></th>\n",
       "      <th>ID</th>\n",
       "      <th>SCORE</th>\n",
       "      <th>ESTADOS</th>\n",
       "      <th>GENERO</th>\n",
       "      <th>IDADE</th>\n",
       "      <th>PATRIMONIO</th>\n",
       "      <th>SALDO</th>\n",
       "      <th>PRODUTOS</th>\n",
       "      <th>CARTAODECREDITO</th>\n",
       "      <th>ATIVO</th>\n",
       "      <th>SALARIO</th>\n",
       "      <th>SAIU</th>\n",
       "    </tr>\n",
       "  </thead>\n",
       "  <tbody>\n",
       "    <tr>\n",
       "      <th>7</th>\n",
       "      <td>8</td>\n",
       "      <td>376</td>\n",
       "      <td>PR</td>\n",
       "      <td>Feminino</td>\n",
       "      <td>29</td>\n",
       "      <td>4</td>\n",
       "      <td>11504674</td>\n",
       "      <td>4</td>\n",
       "      <td>1</td>\n",
       "      <td>0</td>\n",
       "      <td>1.193469e+10</td>\n",
       "      <td>1</td>\n",
       "    </tr>\n",
       "    <tr>\n",
       "      <th>116</th>\n",
       "      <td>118</td>\n",
       "      <td>668</td>\n",
       "      <td>PR</td>\n",
       "      <td>Feminino</td>\n",
       "      <td>37</td>\n",
       "      <td>6</td>\n",
       "      <td>1678644</td>\n",
       "      <td>1</td>\n",
       "      <td>1</td>\n",
       "      <td>0</td>\n",
       "      <td>1.156383e+10</td>\n",
       "      <td>0</td>\n",
       "    </tr>\n",
       "    <tr>\n",
       "      <th>170</th>\n",
       "      <td>172</td>\n",
       "      <td>484</td>\n",
       "      <td>RS</td>\n",
       "      <td>Feminino</td>\n",
       "      <td>29</td>\n",
       "      <td>4</td>\n",
       "      <td>13011439</td>\n",
       "      <td>1</td>\n",
       "      <td>1</td>\n",
       "      <td>0</td>\n",
       "      <td>1.640179e+09</td>\n",
       "      <td>0</td>\n",
       "    </tr>\n",
       "    <tr>\n",
       "      <th>230</th>\n",
       "      <td>232</td>\n",
       "      <td>673</td>\n",
       "      <td>RS</td>\n",
       "      <td>Masculino</td>\n",
       "      <td>72</td>\n",
       "      <td>1</td>\n",
       "      <td>0</td>\n",
       "      <td>2</td>\n",
       "      <td>0</td>\n",
       "      <td>1</td>\n",
       "      <td>1.119812e+09</td>\n",
       "      <td>0</td>\n",
       "    </tr>\n",
       "  </tbody>\n",
       "</table>\n",
       "</div>"
      ],
      "text/plain": [
       "      ID  SCORE ESTADOS     GENERO  IDADE  PATRIMONIO     SALDO  PRODUTOS  \\\n",
       "7      8    376      PR   Feminino     29           4  11504674         4   \n",
       "116  118    668      PR   Feminino     37           6   1678644         1   \n",
       "170  172    484      RS   Feminino     29           4  13011439         1   \n",
       "230  232    673      RS  Masculino     72           1         0         2   \n",
       "\n",
       "     CARTAODECREDITO  ATIVO       SALARIO  SAIU  \n",
       "7                  1      0  1.193469e+10     1  \n",
       "116                1      0  1.156383e+10     0  \n",
       "170                1      0  1.640179e+09     0  \n",
       "230                0      1  1.119812e+09     0  "
      ]
     },
     "execution_count": 355,
     "metadata": {},
     "output_type": "execute_result"
    }
   ],
   "source": [
    "dataset.loc[dataset[\"SALARIO\"] >= 2 * desv]"
   ]
  },
  {
   "cell_type": "code",
   "execution_count": 359,
   "id": "c68ba606-ca6e-4455-9f19-ff47d1a5ba0f",
   "metadata": {},
   "outputs": [
    {
     "data": {
      "text/plain": [
       "8641028.0"
      ]
     },
     "execution_count": 359,
     "metadata": {},
     "output_type": "execute_result"
    }
   ],
   "source": [
    "mediana = sts.median(dataset[\"SALARIO\"])\n",
    "mediana\n",
    "\n"
   ]
  },
  {
   "cell_type": "code",
   "execution_count": 363,
   "id": "63c44c69-bd93-4955-b0c9-733b60051087",
   "metadata": {},
   "outputs": [
    {
     "data": {
      "text/html": [
       "<div>\n",
       "<style scoped>\n",
       "    .dataframe tbody tr th:only-of-type {\n",
       "        vertical-align: middle;\n",
       "    }\n",
       "\n",
       "    .dataframe tbody tr th {\n",
       "        vertical-align: top;\n",
       "    }\n",
       "\n",
       "    .dataframe thead th {\n",
       "        text-align: right;\n",
       "    }\n",
       "</style>\n",
       "<table border=\"1\" class=\"dataframe\">\n",
       "  <thead>\n",
       "    <tr style=\"text-align: right;\">\n",
       "      <th></th>\n",
       "      <th>ID</th>\n",
       "      <th>SCORE</th>\n",
       "      <th>ESTADOS</th>\n",
       "      <th>GENERO</th>\n",
       "      <th>IDADE</th>\n",
       "      <th>PATRIMONIO</th>\n",
       "      <th>SALDO</th>\n",
       "      <th>PRODUTOS</th>\n",
       "      <th>CARTAODECREDITO</th>\n",
       "      <th>ATIVO</th>\n",
       "      <th>SALARIO</th>\n",
       "      <th>SAIU</th>\n",
       "    </tr>\n",
       "  </thead>\n",
       "  <tbody>\n",
       "  </tbody>\n",
       "</table>\n",
       "</div>"
      ],
      "text/plain": [
       "Empty DataFrame\n",
       "Columns: [ID, SCORE, ESTADOS, GENERO, IDADE, PATRIMONIO, SALDO, PRODUTOS, CARTAODECREDITO, ATIVO, SALARIO, SAIU]\n",
       "Index: []"
      ]
     },
     "execution_count": 363,
     "metadata": {},
     "output_type": "execute_result"
    }
   ],
   "source": [
    "#SUBISTITUINDO O VALOR DO DESVIO PADRO PELO MEDIANA\n",
    "dataset.loc[dataset[\"SALARIO\"]>= 2* desv, \"SALARIO\"] = mediana\n",
    "\n",
    "#VERIFICANDO\n",
    "dataset.loc[dataset[\"SALARIO\"]>= 2* desv]"
   ]
  },
  {
   "cell_type": "code",
   "execution_count": 365,
   "id": "ab1befeb-089a-45a9-8690-f8cf7afc5725",
   "metadata": {},
   "outputs": [
    {
     "data": {
      "text/html": [
       "<div>\n",
       "<style scoped>\n",
       "    .dataframe tbody tr th:only-of-type {\n",
       "        vertical-align: middle;\n",
       "    }\n",
       "\n",
       "    .dataframe tbody tr th {\n",
       "        vertical-align: top;\n",
       "    }\n",
       "\n",
       "    .dataframe thead th {\n",
       "        text-align: right;\n",
       "    }\n",
       "</style>\n",
       "<table border=\"1\" class=\"dataframe\">\n",
       "  <thead>\n",
       "    <tr style=\"text-align: right;\">\n",
       "      <th></th>\n",
       "      <th>ID</th>\n",
       "      <th>SCORE</th>\n",
       "      <th>ESTADOS</th>\n",
       "      <th>GENERO</th>\n",
       "      <th>IDADE</th>\n",
       "      <th>PATRIMONIO</th>\n",
       "      <th>SALDO</th>\n",
       "      <th>PRODUTOS</th>\n",
       "      <th>CARTAODECREDITO</th>\n",
       "      <th>ATIVO</th>\n",
       "      <th>SALARIO</th>\n",
       "      <th>SAIU</th>\n",
       "    </tr>\n",
       "  </thead>\n",
       "  <tbody>\n",
       "    <tr>\n",
       "      <th>0</th>\n",
       "      <td>1</td>\n",
       "      <td>619</td>\n",
       "      <td>RS</td>\n",
       "      <td>Feminino</td>\n",
       "      <td>42</td>\n",
       "      <td>2</td>\n",
       "      <td>0</td>\n",
       "      <td>1</td>\n",
       "      <td>1</td>\n",
       "      <td>1</td>\n",
       "      <td>10134888.0</td>\n",
       "      <td>1</td>\n",
       "    </tr>\n",
       "    <tr>\n",
       "      <th>1</th>\n",
       "      <td>2</td>\n",
       "      <td>608</td>\n",
       "      <td>SC</td>\n",
       "      <td>Feminino</td>\n",
       "      <td>41</td>\n",
       "      <td>1</td>\n",
       "      <td>8380786</td>\n",
       "      <td>1</td>\n",
       "      <td>0</td>\n",
       "      <td>1</td>\n",
       "      <td>11254258.0</td>\n",
       "      <td>0</td>\n",
       "    </tr>\n",
       "    <tr>\n",
       "      <th>2</th>\n",
       "      <td>3</td>\n",
       "      <td>502</td>\n",
       "      <td>RS</td>\n",
       "      <td>Feminino</td>\n",
       "      <td>42</td>\n",
       "      <td>8</td>\n",
       "      <td>1596608</td>\n",
       "      <td>3</td>\n",
       "      <td>1</td>\n",
       "      <td>0</td>\n",
       "      <td>11393157.0</td>\n",
       "      <td>1</td>\n",
       "    </tr>\n",
       "    <tr>\n",
       "      <th>3</th>\n",
       "      <td>4</td>\n",
       "      <td>699</td>\n",
       "      <td>RS</td>\n",
       "      <td>Feminino</td>\n",
       "      <td>39</td>\n",
       "      <td>1</td>\n",
       "      <td>0</td>\n",
       "      <td>2</td>\n",
       "      <td>0</td>\n",
       "      <td>0</td>\n",
       "      <td>9382663.0</td>\n",
       "      <td>0</td>\n",
       "    </tr>\n",
       "    <tr>\n",
       "      <th>4</th>\n",
       "      <td>5</td>\n",
       "      <td>850</td>\n",
       "      <td>SC</td>\n",
       "      <td>Feminino</td>\n",
       "      <td>43</td>\n",
       "      <td>2</td>\n",
       "      <td>12551082</td>\n",
       "      <td>1</td>\n",
       "      <td>1</td>\n",
       "      <td>1</td>\n",
       "      <td>790841.0</td>\n",
       "      <td>0</td>\n",
       "    </tr>\n",
       "  </tbody>\n",
       "</table>\n",
       "</div>"
      ],
      "text/plain": [
       "   ID  SCORE ESTADOS    GENERO  IDADE  PATRIMONIO     SALDO  PRODUTOS  \\\n",
       "0   1    619      RS  Feminino     42           2         0         1   \n",
       "1   2    608      SC  Feminino     41           1   8380786         1   \n",
       "2   3    502      RS  Feminino     42           8   1596608         3   \n",
       "3   4    699      RS  Feminino     39           1         0         2   \n",
       "4   5    850      SC  Feminino     43           2  12551082         1   \n",
       "\n",
       "   CARTAODECREDITO  ATIVO     SALARIO  SAIU  \n",
       "0                1      1  10134888.0     1  \n",
       "1                0      1  11254258.0     0  \n",
       "2                1      0  11393157.0     1  \n",
       "3                0      0   9382663.0     0  \n",
       "4                1      1    790841.0     0  "
      ]
     },
     "execution_count": 365,
     "metadata": {},
     "output_type": "execute_result"
    }
   ],
   "source": [
    "dataset.head()"
   ]
  },
  {
   "cell_type": "code",
   "execution_count": 369,
   "id": "af595f2b-9be1-4bee-86ef-6d4e596cc370",
   "metadata": {},
   "outputs": [
    {
     "data": {
      "text/plain": [
       "(995, 12)"
      ]
     },
     "execution_count": 369,
     "metadata": {},
     "output_type": "execute_result"
    }
   ],
   "source": [
    "dataset.shape"
   ]
  },
  {
   "cell_type": "code",
   "execution_count": null,
   "id": "c7780d66-b730-41fd-bc1a-bc85a08e7dba",
   "metadata": {},
   "outputs": [],
   "source": []
  },
  {
   "cell_type": "code",
   "execution_count": null,
   "id": "d218e21d-47fa-41bd-b4e9-d67848878fc5",
   "metadata": {},
   "outputs": [],
   "source": []
  }
 ],
 "metadata": {
  "kernelspec": {
   "display_name": "Python [conda env:base] *",
   "language": "python",
   "name": "conda-base-py"
  },
  "language_info": {
   "codemirror_mode": {
    "name": "ipython",
    "version": 3
   },
   "file_extension": ".py",
   "mimetype": "text/x-python",
   "name": "python",
   "nbconvert_exporter": "python",
   "pygments_lexer": "ipython3",
   "version": "3.12.7"
  }
 },
 "nbformat": 4,
 "nbformat_minor": 5
}
